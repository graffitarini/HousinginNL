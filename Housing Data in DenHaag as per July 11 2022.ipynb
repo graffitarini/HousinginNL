{
 "cells": [
  {
   "cell_type": "code",
   "execution_count": 2,
   "id": "cf4d6f51",
   "metadata": {},
   "outputs": [],
   "source": [
    "from bs4 import BeautifulSoup\n",
    "import requests\n",
    "from csv import writer\n",
    "\n",
    "url = \"https://www.pararius.com/apartments/den-haag\"\n",
    "page = requests.get(url)\n",
    "\n",
    "soup = BeautifulSoup(page.content, \"html.parser\")\n",
    "lists = soup.find_all(\"section\", class_=\"listing-search-item\")\n",
    "\n",
    "with open('housinginDenHaag.csv', 'w', encoding='utf8', newline='') as f:\n",
    "    thewriter = writer(f)\n",
    "    header = ['Title', 'Location', 'Price', 'Size', 'Rooms']\n",
    "    thewriter.writerow(header)\n",
    "    \n",
    "    for list in lists:\n",
    "        title = list.find(\"a\", class_=\"listing-search-item__link listing-search-item__link--title\").text.replace('\\n', '')\n",
    "        location = list.find(\"div\", class_=\"listing-search-item__location\").text.replace('\\n', '')\n",
    "        price = list.find(\"div\", class_=\"listing-search-item__price\").text.replace('\\n', '')\n",
    "        size = list.find(\"li\", class_=\"illustrated-features__item illustrated-features__item--surface-area\").text.replace('\\n', '')\n",
    "        rooms = list.find(\"li\", class_=\"illustrated-features__item illustrated-features__item--number-of-rooms\").text.replace('\\n', '')\n",
    "        info = [title, location, price, size, rooms]\n",
    "        thewriter.writerow(info)"
   ]
  },
  {
   "cell_type": "code",
   "execution_count": null,
   "id": "249856df",
   "metadata": {},
   "outputs": [],
   "source": []
  }
 ],
 "metadata": {
  "kernelspec": {
   "display_name": "Python 3",
   "language": "python",
   "name": "python3"
  },
  "language_info": {
   "codemirror_mode": {
    "name": "ipython",
    "version": 3
   },
   "file_extension": ".py",
   "mimetype": "text/x-python",
   "name": "python",
   "nbconvert_exporter": "python",
   "pygments_lexer": "ipython3",
   "version": "3.8.8"
  },
  "toc": {
   "base_numbering": 1,
   "nav_menu": {},
   "number_sections": true,
   "sideBar": true,
   "skip_h1_title": false,
   "title_cell": "Table of Contents",
   "title_sidebar": "Contents",
   "toc_cell": false,
   "toc_position": {},
   "toc_section_display": true,
   "toc_window_display": false
  }
 },
 "nbformat": 4,
 "nbformat_minor": 5
}
